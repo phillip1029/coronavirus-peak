{
 "cells": [
  {
   "cell_type": "markdown",
   "metadata": {
    "slideshow": {
     "slide_type": "slide"
    }
   },
   "source": [
    "# When will coronavirus peak?"
   ]
  },
  {
   "cell_type": "markdown",
   "metadata": {},
   "source": [
    "## We are in a serious war against an invisible enemy.\n",
    "\n"
   ]
  },
  {
   "cell_type": "markdown",
   "metadata": {},
   "source": [
    "\n",
    "https://www.talktomira.com/post/when-will-coronavirus-peak-and-end-social-distancing"
   ]
  },
  {
   "cell_type": "markdown",
   "metadata": {},
   "source": [
    "Today our landscaper asked my wife, “When do you think the virus thing will end?” Did the landscaper think that the wife of a data scientist should know how to forecast this? Or, it is just a safe and hot chat topic for anybody nowadays."
   ]
  },
  {
   "cell_type": "markdown",
   "metadata": {},
   "source": [
    "Technically, the peak can be defined as the maximum hospital resource utilization and deaths associated with COVID-19. Researchers have been developing models to forecast when the virus will peak (https://www.talktomira.com/post/when-will-coronavirus-peak-and-end-social-distancing). To be honest, even as a data scientist, it is hard for me to validate how accurate their model forecasts are. For the general audience, we don’t have the knowledge and time to gather all this information. But one thing we know for sure is that the peak highly correlates to the most confirmed cases of Coronavirus within your state or city."
   ]
  },
  {
   "cell_type": "markdown",
   "metadata": {},
   "source": [
    "I would like to introduce a common technique that has been widely used in stock market analysis to check if the virus has reached its peak in your state or not."
   ]
  },
  {
   "cell_type": "markdown",
   "metadata": {},
   "source": [
    "## Moving Average Crossover Strategy"
   ]
  },
  {
   "cell_type": "markdown",
   "metadata": {},
   "source": [
    "If you have ever traded any stocks, options, or bitcoins, you shall be familiar with the moving average crossover strategy. If not, you can check this resource: https://www.investopedia.com/articles/active-trading/052014/how-use-moving-average-buy-stocks.asp.\n",
    "It is a straightforward, popular, and compelling technique in stock market analysis to examine the stock price moving average (MA). The moving averages smooth out noises of the price changes, and crossovers of price and MAs are one of the main MA strategies. The price crossing above or below a moving average (MA) gives a signal of a potential change in trend."
   ]
  },
  {
   "cell_type": "markdown",
   "metadata": {},
   "source": [
    "New Confirmed Cases MA Crossover check"
   ]
  },
  {
   "cell_type": "markdown",
   "metadata": {},
   "source": [
    "The MA crossover strategy inspires me to apply a daily new confirmed cases MA crossover approach to check if the virus has reached its peak. I am going to share how I develop the solution in Python Jupyter Notebook."
   ]
  },
  {
   "cell_type": "markdown",
   "metadata": {},
   "source": [
    "Load the packages for analysis."
   ]
  },
  {
   "cell_type": "code",
   "execution_count": 1,
   "metadata": {
    "ExecuteTime": {
     "end_time": "2020-04-18T18:54:34.604534Z",
     "start_time": "2020-04-18T18:54:32.599471Z"
    },
    "slideshow": {
     "slide_type": "slide"
    }
   },
   "outputs": [],
   "source": [
    "import os\n",
    "import pandas as pd\n",
    "import datetime as dt\n",
    "import matplotlib.pyplot as plt\n",
    "import numpy as np\n",
    "import warnings\n",
    "warnings.filterwarnings(\"ignore\")"
   ]
  },
  {
   "cell_type": "code",
   "execution_count": 17,
   "metadata": {
    "ExecuteTime": {
     "end_time": "2020-04-18T19:09:35.890307Z",
     "start_time": "2020-04-18T19:09:35.713372Z"
    }
   },
   "outputs": [],
   "source": [
    "path = 'https://raw.githubusercontent.com/nytimes/covid-19-data/master/'\n",
    "file = 'us-states.csv'\n",
    "df_us_states = pd.read_csv(os.path.join(path, file), parse_dates= ['date'])\n",
    "df_us_states['date'] = df_us_states['date'].dt.date\n",
    "df_us_states_sum = df_us_states.groupby(['state', 'date'])[['cases', 'deaths']].sum()\n",
    "df_us_states_sum['new_confirmed'] = df_us_states_sum.cases.diff()\n",
    "df_us_states_sum = df_us_states_sum.dropna()\n",
    "df_us_states_sum['new_confirmed'] = np.where((df_us_states_sum.new_confirmed <  0), 0 ,df_us_states_sum.new_confirmed)\n",
    "df_us_states_sum = df_us_states_sum.loc[df_us_states_sum.index.get_level_values(1) >= dt.date(2020, 3,10)]\n",
    "df_comb_sum = df_us_states_sum.reset_index().set_index('date')"
   ]
  },
  {
   "cell_type": "code",
   "execution_count": 18,
   "metadata": {
    "ExecuteTime": {
     "end_time": "2020-04-18T19:09:37.354864Z",
     "start_time": "2020-04-18T19:09:36.807150Z"
    }
   },
   "outputs": [
    {
     "data": {
      "application/vnd.jupyter.widget-view+json": {
       "model_id": "9d610f9b7d1c4ea6974d3c7fd743d62c",
       "version_major": 2,
       "version_minor": 0
      },
      "text/plain": [
       "interactive(children=(Dropdown(description='State:', index=34, options=('Alabama', 'Alaska', 'American Samoa',…"
      ]
     },
     "metadata": {},
     "output_type": "display_data"
    }
   ],
   "source": [
    "# create a list to store all the state names\n",
    "states = df_comb_sum.state.unique()\n",
    "import plotly.graph_objects as go\n",
    "import ipywidgets\n",
    "from ipywidgets import widgets\n",
    "@ipywidgets.interact\n",
    "def plot(state= widgets.Dropdown(options=states,value=\"New York\", description='State:',disabled=False,), \\\n",
    "         ma_window=widgets.IntSlider(min=3, max=15, step=1, value=7, description=\"SMA window:\")):\n",
    "    df = df_comb_sum.loc[df_comb_sum['state'] == state]\n",
    "    df['new_cases_sma'] = df['new_confirmed'].rolling(window=ma_window).mean()\n",
    "    fig = go.Figure()\n",
    "    fig.add_trace(go.Scatter(\n",
    "            x=df.index,\n",
    "            y=df['new_confirmed'],\n",
    "            mode=\"lines\",\n",
    "            name=\"Daily New Confirmed Cases\"\n",
    "        ))\n",
    "    fig.add_trace(go.Scatter(\n",
    "            x=df.index,\n",
    "            y=df['new_cases_sma'],\n",
    "            mode=\"lines\", \n",
    "            name= \"Daily New Cases SMA{} \".format(ma_window)\n",
    "        ))\n",
    "\n",
    "    fig.show()"
   ]
  },
  {
   "cell_type": "code",
   "execution_count": null,
   "metadata": {},
   "outputs": [],
   "source": []
  }
 ],
 "metadata": {
  "kernelspec": {
   "display_name": "Python 3",
   "language": "python",
   "name": "python3"
  },
  "language_info": {
   "codemirror_mode": {
    "name": "ipython",
    "version": 3
   },
   "file_extension": ".py",
   "mimetype": "text/x-python",
   "name": "python",
   "nbconvert_exporter": "python",
   "pygments_lexer": "ipython3",
   "version": "3.7.6"
  },
  "toc": {
   "base_numbering": 1,
   "nav_menu": {},
   "number_sections": true,
   "sideBar": true,
   "skip_h1_title": true,
   "title_cell": "Table of Contents",
   "title_sidebar": "Contents",
   "toc_cell": false,
   "toc_position": {
    "height": "calc(100% - 180px)",
    "left": "10px",
    "top": "150px",
    "width": "165px"
   },
   "toc_section_display": true,
   "toc_window_display": true
  }
 },
 "nbformat": 4,
 "nbformat_minor": 4
}
